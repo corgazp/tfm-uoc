{
 "cells": [
  {
   "cell_type": "code",
   "execution_count": 47,
   "id": "c2862012",
   "metadata": {},
   "outputs": [],
   "source": [
    "# Usamos las librerias panda y requests\n",
    "import pandas as pd\n",
    "import requests\n",
    "# leemos el fichero y lo guardamos en la variable df\n",
    "df=pd.read_csv('gut_comps.csv',sep=\";\")\n",
    "baseURL=\"https://pubchem.ncbi.nlm.nih.gov/rest/pug/compound/inchi/cids/JSON\"\n",
    "# Creamos el array donde guardaremos los cids\n",
    "cids=[]"
   ]
  },
  {
   "cell_type": "code",
   "execution_count": 48,
   "id": "6a7a1e78",
   "metadata": {},
   "outputs": [],
   "source": [
    "# Recorremos la columna inchi y realizamos a tanta peticiones a la api como valores hay en la columna\n",
    "for i in df[\"inchi\"]:\n",
    "    PARAMS = {'inchi':i} \n",
    "    try:\n",
    "        r = requests.get(url = baseURL, params = PARAMS)\n",
    "        cids.append(r.json())\n",
    "    except:\n",
    "        print(\"API ERROR\")"
   ]
  },
  {
   "cell_type": "code",
   "execution_count": 53,
   "id": "8342ec3b",
   "metadata": {},
   "outputs": [
    {
     "name": "stdout",
     "output_type": "stream",
     "text": [
      "6429333\n"
     ]
    }
   ],
   "source": [
    "# Creamos una nueva columna cid en el conjunto de datos df con datos dummy\n",
    "df[\"cid\"]=range(0,len(df))\n",
    "# Recorremos los valores guardados en cids para asinarnos al conjunto de datos\n",
    "for i in range(0,len(cids)):\n",
    "    df[\"cid\"][i]=cids[i][\"IdentifierList\"][\"CID\"][0]"
   ]
  },
  {
   "cell_type": "code",
   "execution_count": 59,
   "id": "7d773cb3",
   "metadata": {},
   "outputs": [
    {
     "name": "stderr",
     "output_type": "stream",
     "text": [
      "C:\\Users\\Chris\\AppData\\Local\\Temp\\ipykernel_17104\\2508149104.py:2: SettingWithCopyWarning: \n",
      "A value is trying to be set on a copy of a slice from a DataFrame\n",
      "\n",
      "See the caveats in the documentation: https://pandas.pydata.org/pandas-docs/stable/user_guide/indexing.html#returning-a-view-versus-a-copy\n",
      "  df[\"cid\"][i]=cids[i][\"IdentifierList\"][\"CID\"][0]\n"
     ]
    }
   ],
   "source": [
    "# Guardamos el conjunto de datos en un fichero csv\n",
    "df.to_csv(\"file_with_cids.csv\", sep=';',index=False)"
   ]
  }
 ],
 "metadata": {
  "kernelspec": {
   "display_name": "Python 3 (ipykernel)",
   "language": "python",
   "name": "python3"
  },
  "language_info": {
   "codemirror_mode": {
    "name": "ipython",
    "version": 3
   },
   "file_extension": ".py",
   "mimetype": "text/x-python",
   "name": "python",
   "nbconvert_exporter": "python",
   "pygments_lexer": "ipython3",
   "version": "3.10.9"
  }
 },
 "nbformat": 4,
 "nbformat_minor": 5
}
