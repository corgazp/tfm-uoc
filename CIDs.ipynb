{
 "cells": [
  {
   "cell_type": "code",
   "execution_count": 8,
   "id": "c2862012",
   "metadata": {},
   "outputs": [],
   "source": [
    "# Usamos las librerias panda, requests y numpy\n",
    "import pandas as pd\n",
    "import requests\n",
    "import numpy as np\n",
    "from datetime import datetime\n",
    "# leemos el fichero y lo guardamos en la variable df\n",
    "df=pd.read_csv('gut_comps.csv',sep=\";\")\n",
    "baseURL=\"https://pubchem.ncbi.nlm.nih.gov/rest/pug/compound/inchi/cids/JSON\"\n",
    "altURL=\"https://pubchem.ncbi.nlm.nih.gov/rest/pug/compound/xref/RegistryID/{registryID}/cids/JSON\"\n",
    "# Creamos la función getCidByInchI\n",
    "def getCidByInchI(inchI):\n",
    "    PARAMS = {'inchi':inchI}\n",
    "    try:\n",
    "        response = requests.get(url = baseURL, params = PARAMS)\n",
    "        if(response.status_code==200):\n",
    "            return response.json()[\"IdentifierList\"][\"CID\"][0]\n",
    "        else:\n",
    "            return np.NA\n",
    "    except:\n",
    "        print(f'API Resquest ERROR {response.status_code}')\n",
    "        response = requests.get(url = baseURL, params = PARAMS)\n",
    "        if(response.status_code==200):\n",
    "            return response.json()[\"IdentifierList\"][\"CID\"][0]\n",
    "        else:\n",
    "            return np.NA\n",
    "def getCidByHMDBId(HMDBId):\n",
    "    try:\n",
    "        response = requests.get(url = altURL.replace(\"{registryID}\",HMDBId))\n",
    "        if(response.status_code==200):\n",
    "            return response.json()[\"IdentifierList\"][\"CID\"][0]\n",
    "        else:\n",
    "            return np.NA\n",
    "    except:\n",
    "        print(f'API Resquest ERROR {response.status_code}')\n",
    "        response = requests.get(url = altURL.replace(\"{registryID}\",str(HMDBId)))\n",
    "        if(response.status_code==200):\n",
    "            return response.json()[\"IdentifierList\"][\"CID\"][0]\n",
    "        else:\n",
    "            return np.NA\n",
    "def checkDataNA(dataframe, colname, requestColname, altRequestColname):\n",
    "    for i in range(0,len(dataframe[colname])):\n",
    "        if(np.isnan(dataframe[colname][i])):\n",
    "            dataframe[colname][i]=getCidByInchI(dataframe[requestColname][i])\n",
    "        if(dataframe[colname][i]==0):\n",
    "             dataframe[colname][i]=getCidByHMDBId(dataframe[altRequestColname][i])"
   ]
  },
  {
   "cell_type": "code",
   "execution_count": null,
   "id": "6a7a1e78",
   "metadata": {},
   "outputs": [],
   "source": [
    "start_time = datetime.now()\n",
    "# Recorremos la columna inchi y realizamos a tanta peticiones a la api como valores hay en la columna\n",
    "df['cid'] = df.apply(lambda row:getCidByInchI(row['inchi']), axis = 1)\n",
    "checkDataNA(df,'cid','inchi','hmdb_id')\n",
    "# Guardamos el conjunto de datos en un fichero csv\n",
    "df.to_csv(\"file_with_cids.csv\", sep=';',index=False)\n",
    "end_time=datetime.now()\n",
    "print('Duration: {}'.format(end_time - start_time))"
   ]
  },
  {
   "cell_type": "code",
   "execution_count": null,
   "id": "95ad891d",
   "metadata": {},
   "outputs": [],
   "source": []
  }
 ],
 "metadata": {
  "kernelspec": {
   "display_name": "Python 3 (ipykernel)",
   "language": "python",
   "name": "python3"
  },
  "language_info": {
   "codemirror_mode": {
    "name": "ipython",
    "version": 3
   },
   "file_extension": ".py",
   "mimetype": "text/x-python",
   "name": "python",
   "nbconvert_exporter": "python",
   "pygments_lexer": "ipython3",
   "version": "3.10.9"
  }
 },
 "nbformat": 4,
 "nbformat_minor": 5
}
